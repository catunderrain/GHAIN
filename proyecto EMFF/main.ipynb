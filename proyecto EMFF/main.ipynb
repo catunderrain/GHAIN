{
 "cells": [
  {
   "cell_type": "code",
   "execution_count": 1,
   "metadata": {},
   "outputs": [
    {
     "name": "stdout",
     "output_type": "stream",
     "text": [
      "Requirement already satisfied: python-docx in c:\\users\\lenovo\\appdata\\local\\programs\\python\\python312\\lib\\site-packages (1.1.2)\n",
      "Requirement already satisfied: lxml>=3.1.0 in c:\\users\\lenovo\\appdata\\local\\programs\\python\\python312\\lib\\site-packages (from python-docx) (5.3.0)\n",
      "Requirement already satisfied: typing-extensions>=4.9.0 in c:\\users\\lenovo\\appdata\\local\\programs\\python\\python312\\lib\\site-packages (from python-docx) (4.12.2)\n"
     ]
    }
   ],
   "source": [
    "!pip install python-docx\n",
    "!pip install pypdf2"
   ]
  },
  {
   "cell_type": "code",
   "execution_count": 44,
   "metadata": {},
   "outputs": [
    {
     "name": "stdout",
     "output_type": "stream",
     "text": [
      "{'author': 'Lenovo',\n",
      " 'category': '',\n",
      " 'comments': '',\n",
      " 'content_status': '',\n",
      " 'created': '21-12-2024 08:16:16',\n",
      " 'identifier': '',\n",
      " 'keywords': '',\n",
      " 'language': '',\n",
      " 'last_modified_by': 'Rain Embrace',\n",
      " 'last_printed': None,\n",
      " 'modified': '21-12-2024 08:16:31',\n",
      " 'revision': 0,\n",
      " 'subject': '',\n",
      " 'title': '',\n",
      " 'version': ''}\n"
     ]
    }
   ],
   "source": [
    "import docx\n",
    "from pprint import pprint\n",
    "import os\n",
    "import docx.document\n",
    "from openpyxl import load_workbook\n",
    "from PyPDF2 import PdfReader\n",
    "\n",
    "def extract_metadata(docxfile):\n",
    "    doc = docx.Document(docxfile)\n",
    "    core_properties = doc.core_properties\n",
    "    metadata = {}\n",
    "    \n",
    "    for prop in dir(core_properties):\n",
    "        if prop.startswith('___') or prop.startswith('__') or prop.startswith('_'):\n",
    "            continue\n",
    "        value = getattr(core_properties, prop)\n",
    "        if callable(value): continue\n",
    "        if prop == 'created' or prop == 'modified' or prop == 'last_printed':\n",
    "            if value:\n",
    "                value = value.strftime('%d-%m-%Y %H:%M:%S')\n",
    "            else:\n",
    "                value = None\n",
    "        metadata[prop] = value\n",
    "    try:\n",
    "        custom_properties = core_properties.custom_properties\n",
    "        if custom_properties:\n",
    "            metadata['custom_properties'] = {}\n",
    "            for prop in custom_properties:\n",
    "                metadata['custom_properties'][prop.name] = prop.value\n",
    "    except AttributeError:\n",
    "        pass\n",
    "\n",
    "    return metadata\n",
    "    \n",
    "    \n",
    "\n",
    "ROOT = os.getcwd()\n",
    "docxfilename = 'sample.docx'\n",
    "docxpath = os.path.join(ROOT, docxfilename)\n",
    "metadata = extract_metadata(docxpath)\n",
    "\n",
    "pprint(metadata)"
   ]
  }
 ],
 "metadata": {
  "kernelspec": {
   "display_name": "Python 3",
   "language": "python",
   "name": "python3"
  },
  "language_info": {
   "codemirror_mode": {
    "name": "ipython",
    "version": 3
   },
   "file_extension": ".py",
   "mimetype": "text/x-python",
   "name": "python",
   "nbconvert_exporter": "python",
   "pygments_lexer": "ipython3",
   "version": "3.12.5"
  }
 },
 "nbformat": 4,
 "nbformat_minor": 2
}
