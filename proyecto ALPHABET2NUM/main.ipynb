{
 "cells": [
  {
   "cell_type": "code",
   "execution_count": 1,
   "metadata": {},
   "outputs": [
    {
     "name": "stdout",
     "output_type": "stream",
     "text": [
      "17.1.20.25\n"
     ]
    }
   ],
   "source": [
    "from pyperclip import copy\n",
    "import pprint\n",
    "# A-Z: 65-91\n",
    "# a-z: 97-123\n",
    "\n",
    "dic = {i+1:[chr(65+i), chr(97+i)] for i in range(26)}\n",
    "# pprint.pprint(dic)\n",
    "msg = 'qaty'\n",
    "re = []\n",
    "for w in msg:\n",
    "    for key, value in dic.items():\n",
    "        if w in value:\n",
    "            re.append(str(key))\n",
    "fin_re = '.'.join(re)\n",
    "print(fin_re)\n",
    "copy(fin_re)\n"
   ]
  },
  {
   "cell_type": "code",
   "execution_count": 2,
   "metadata": {},
   "outputs": [
    {
     "name": "stdout",
     "output_type": "stream",
     "text": [
      "qaty\n"
     ]
    }
   ],
   "source": [
    "from pyperclip import copy\n",
    "import pprint\n",
    "# A-Z: 65-91\n",
    "# a-z: 97-123\n",
    "\n",
    "dic = {i+1:[chr(65+i), chr(97+i)] for i in range(26)}\n",
    "# pprint.pprint(dic)\n",
    "msg = '17.01.20.25'\n",
    "re = []\n",
    "for n in msg.split('.'):\n",
    "    for key, value in dic.items():\n",
    "        if int(n) == key:\n",
    "            re.append(str(value[1]))\n",
    "fin_re = ''.join(re)\n",
    "print(fin_re)\n",
    "copy(fin_re)\n"
   ]
  }
 ],
 "metadata": {
  "kernelspec": {
   "display_name": "Python 3",
   "language": "python",
   "name": "python3"
  },
  "language_info": {
   "codemirror_mode": {
    "name": "ipython",
    "version": 3
   },
   "file_extension": ".py",
   "mimetype": "text/x-python",
   "name": "python",
   "nbconvert_exporter": "python",
   "pygments_lexer": "ipython3",
   "version": "3.12.5"
  }
 },
 "nbformat": 4,
 "nbformat_minor": 2
}
